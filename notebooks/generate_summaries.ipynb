{
 "cells": [
  {
   "cell_type": "code",
   "execution_count": null,
   "metadata": {},
   "outputs": [
    {
     "data": {
      "text/plain": [
       "True"
      ]
     },
     "execution_count": 5,
     "metadata": {},
     "output_type": "execute_result"
    }
   ],
   "source": [
    "\n",
    "import pysqlite3\n",
    "import os\n",
    "from datetime import datetime\n",
    "from dotenv import load_dotenv\n",
    "import libsql_experimental as libsql\n",
    "\n",
    "\n",
    "load_dotenv()"
   ]
  },
  {
   "cell_type": "code",
   "execution_count": 6,
   "metadata": {},
   "outputs": [
    {
     "name": "stdout",
     "output_type": "stream",
     "text": [
      "\u001b[2m2024-12-03T05:44:37.707430Z\u001b[0m \u001b[32m INFO\u001b[0m \u001b[2mlibsql::replication::remote_client\u001b[0m\u001b[2m:\u001b[0m Attempting to perform handshake with primary.\n",
      "\u001b[2m2024-12-03T05:44:37.767434Z\u001b[0m \u001b[33m WARN\u001b[0m \u001b[2mlibsql::replication::remote_client\u001b[0m\u001b[2m:\u001b[0m Frames prefetching failed because of new session token returned by handshake\n"
     ]
    }
   ],
   "source": [
    "\"\"\" Connect to Turso - embedded replicas \"\"\"\n",
    "\n",
    "DB_URL = os.getenv(\"TURSO_DATABASE_URL\")\n",
    "AUTH_TOKEN = os.getenv(\"TURSO_AUTH_TOKEN\")\n",
    "OPENAI_SECRET = os.getenv(\"OPEN_AI_SECRET\")\n",
    "\n",
    "conn = libsql.connect(\"../data/primary.db\", sync_url=DB_URL, auth_token=AUTH_TOKEN)\n",
    "\n",
    "conn.sync()"
   ]
  },
  {
   "cell_type": "code",
   "execution_count": 7,
   "metadata": {},
   "outputs": [],
   "source": [
    "indicator_tables = [\n",
    "    # broad\n",
    "    \"real_gdp\",\n",
    "    \"cpi\",\n",
    "    \"treasury_yields\",\n",
    "    \"federal_funds_rate\",\n",
    "    \"unemployment_rate\",\n",
    "    \"inflation_rate\",\n",
    "    \n",
    "    # Forex\n",
    "    \"forex_usd_aud\",\n",
    "    \"forex_aud_jpy\",\n",
    "\n",
    "    # Commodities\n",
    "    \"commodity_wti\",\n",
    "    \"commodity_brent\",\n",
    "    \"commodity_copper\",\n",
    "    \"commodity_aluminum\",\n",
    "]"
   ]
  },
  {
   "cell_type": "code",
   "execution_count": 10,
   "metadata": {},
   "outputs": [],
   "source": [
    "from openai import OpenAI\n",
    "\n",
    "def generate_macro_summary(indicators):\n",
    "    \"\"\"\n",
    "    Generate a summary of the macroeconomic environment using OpenAI.\n",
    "    :param indicators: Dictionary containing economic indicator data.\n",
    "    :return: Markdown summary as a string.\n",
    "    \"\"\"\n",
    "    prompt = f\"\"\"\n",
    "    Generate a concise and insightful summary of the current macroeconomic environment based on the following data:\n",
    "    {indicators}\n",
    "\n",
    "    Please explain the trends and their potential implications for the economy in markdown format.\n",
    "    \"\"\"\n",
    "    \n",
    "    client = OpenAI(api_key=OPENAI_SECRET)\n",
    "    \n",
    "    completion = client.chat.completions.create(\n",
    "        model=\"gpt-4o\",\n",
    "        messages=[\n",
    "            {\"role\": \"system\", \"content\": \"You are a professional economic advisor and analyst.\"},\n",
    "            {\n",
    "                \"role\": \"user\",\n",
    "                \"content\": prompt\n",
    "            }\n",
    "        ]\n",
    "    )\n",
    "    return completion.choices[0].message\n",
    "\n",
    "def create_summary_table():\n",
    "\n",
    "\n",
    "    conn.execute(\"\"\"\n",
    "    CREATE TABLE IF NOT EXISTS macro_summaries (\n",
    "        id INTEGER PRIMARY KEY AUTOINCREMENT,\n",
    "        created_at TEXT,\n",
    "        summary TEXT\n",
    "    )\n",
    "    \"\"\")\n",
    "    conn.commit()\n",
    "    conn.sync()\n",
    "    \n",
    "    \n",
    "def save_summary_to_db(summary):\n",
    "    \"\"\"\n",
    "    Save a generated summary into the SQLite database.\n",
    "    :param summary: The markdown-formatted summary string.\n",
    "    :param db_path: Path to SQLite database.\n",
    "    \"\"\"\n",
    "    # conn = pysqlite3.connect(DB_PATH)\n",
    "    # cursor = conn.cursor()\n",
    "\n",
    "    # Ensure the summary table exists\n",
    "    conn.execute(\"\"\"\n",
    "    CREATE TABLE IF NOT EXISTS macro_summaries (\n",
    "        id INTEGER PRIMARY KEY AUTOINCREMENT,\n",
    "        created_at TEXT,\n",
    "        summary TEXT\n",
    "    )\n",
    "    \"\"\")\n",
    "\n",
    "    # Insert the new summary\n",
    "    conn.execute(\"\"\"\n",
    "    INSERT INTO macro_summaries (created_at, summary) \n",
    "    VALUES (?, ?)\n",
    "    \"\"\", (datetime.now().isoformat(), summary))\n",
    "\n",
    "    conn.commit()\n",
    "    conn.sync()\n",
    "\n",
    "def fetch_all_indicators(tables):\n",
    "    \"\"\"\n",
    "    Fetch data from all specified tables and aggregate it into a dictionary.\n",
    "    :param tables: List of table names to query.\n",
    "    :param db_path: Path to SQLite database.\n",
    "    :return: Dictionary with table names as keys and data as lists of records.\n",
    "    \"\"\"\n",
    "\n",
    "\n",
    "    indicators = {}\n",
    "    for table in tables:\n",
    "        if table.startswith(\"forex\"):  # Handle forex tables with OHLC data\n",
    "            rows = conn.execute(f\"SELECT date, open, high, low, close FROM {table} ORDER BY date DESC LIMIT 30\").fetchall()\n",
    "            \n",
    "            \n",
    "            indicators[table] = [\n",
    "                {\n",
    "                    \"date\": row[0],\n",
    "                    \"open\": row[1],\n",
    "                    \"high\": row[2],\n",
    "                    \"low\": row[3],\n",
    "                    \"close\": row[4]\n",
    "                }\n",
    "                for row in rows\n",
    "            ]\n",
    "        else:  # Handle standard value-based tables\n",
    "            rows = conn.execute(f\"SELECT date, value FROM {table} ORDER BY date DESC LIMIT 30\").fetchall()\n",
    "            \n",
    "            indicators[table] = [\n",
    "                {\"date\": row[0], \"value\": row[1]}\n",
    "                for row in rows\n",
    "            ]\n",
    "    conn.sync()\n",
    "    return indicators\n",
    "\n",
    "def format_indicators_for_prompt(indicators):\n",
    "    \"\"\"\n",
    "    Format indicators dictionary into a string for the OpenAI prompt.\n",
    "    :param indicators: Dictionary of indicator data.\n",
    "    :return: Formatted string.\n",
    "    \"\"\"\n",
    "    formatted = []\n",
    "    for category, data in indicators.items():\n",
    "        formatted.append(f\"### {category.replace('_', ' ').title()}\")\n",
    "        for record in data:\n",
    "            if \"value\" in record:  # Standard tables\n",
    "                formatted.append(f\"- {record['date']}: {record['value']}\")\n",
    "            else:  # Forex tables\n",
    "                formatted.append(\n",
    "                    f\"- {record['date']}: Open={record['open']}, High={record['high']}, \"\n",
    "                    f\"Low={record['low']}, Close={record['close']}\"\n",
    "                )\n",
    "    return \"\\n\".join(formatted)\n",
    "    \n"
   ]
  },
  {
   "cell_type": "code",
   "execution_count": 11,
   "metadata": {},
   "outputs": [
    {
     "name": "stdout",
     "output_type": "stream",
     "text": [
      "\u001b[2m2024-12-03T05:46:07.697806Z\u001b[0m \u001b[32m INFO\u001b[0m \u001b[2mlibsql::replication::remote_client\u001b[0m\u001b[2m:\u001b[0m Attempting to perform handshake with primary.\n",
      "\u001b[2m2024-12-03T05:46:07.736855Z\u001b[0m \u001b[32m INFO\u001b[0m \u001b[2mlibsql::replication::remote_client\u001b[0m\u001b[2m:\u001b[0m Attempting to perform handshake with primary.\n",
      "\u001b[2m2024-12-03T05:46:07.794713Z\u001b[0m \u001b[32m INFO\u001b[0m \u001b[2mlibsql::replication::remote_client\u001b[0m\u001b[2m:\u001b[0m Attempting to perform handshake with primary.\n",
      "\u001b[2m2024-12-03T05:46:16.501539Z\u001b[0m \u001b[32m INFO\u001b[0m \u001b[2mlibsql::replication::remote_client\u001b[0m\u001b[2m:\u001b[0m Attempting to perform handshake with primary.\n",
      "\u001b[2m2024-12-03T05:46:16.551870Z\u001b[0m \u001b[32m INFO\u001b[0m \u001b[2mlibsql::replication::remote_client\u001b[0m\u001b[2m:\u001b[0m Attempting to perform handshake with primary.\n",
      "\u001b[2m2024-12-03T05:46:16.611460Z\u001b[0m \u001b[32m INFO\u001b[0m \u001b[2mlibsql::replication::remote_client\u001b[0m\u001b[2m:\u001b[0m Attempting to perform handshake with primary.\n",
      "\u001b[2m2024-12-03T05:46:16.650918Z\u001b[0m \u001b[32m INFO\u001b[0m \u001b[2mlibsql::replication::remote_client\u001b[0m\u001b[2m:\u001b[0m Attempting to perform handshake with primary.\n",
      "\u001b[2m2024-12-03T05:46:16.675163Z\u001b[0m \u001b[32m INFO\u001b[0m \u001b[2mlibsql::replication::remote_client\u001b[0m\u001b[2m:\u001b[0m Attempting to perform handshake with primary.\n"
     ]
    }
   ],
   "source": [
    "# Step 1: Ensure summary table exists\n",
    "create_summary_table()\n",
    "\n",
    "# Step 2: Fetch economic indicators\n",
    "db_indicators = fetch_all_indicators(indicator_tables)\n",
    "\n",
    "# Format the indicators for the OpenAI prompt\n",
    "formatted_indicators = format_indicators_for_prompt(db_indicators)\n",
    "\n",
    "# Step 3: Generate summary\n",
    "summary = generate_macro_summary(formatted_indicators)\n",
    "\n",
    "# # Step 4: Save summary to the database\n",
    "save_summary_to_db(summary.content)"
   ]
  },
  {
   "cell_type": "code",
   "execution_count": 18,
   "metadata": {},
   "outputs": [],
   "source": [
    "def fetch_latest_summary():\n",
    "    # conn = pysqlite3.connect(DB_PATH)\n",
    "    # cursor = conn.cursor()\n",
    "\n",
    "    row = conn.execute(\"\"\"\n",
    "    SELECT created_at, summary FROM macro_summaries\n",
    "    ORDER BY created_at DESC\n",
    "    LIMIT 1\n",
    "    \"\"\").fetchone()\n",
    "    \n",
    "    # conn.sync()\n",
    "\n",
    "    return {\"created_at\": row[0], \"summary\": row[1]} if row else None"
   ]
  },
  {
   "cell_type": "code",
   "execution_count": 19,
   "metadata": {},
   "outputs": [
    {
     "name": "stdout",
     "output_type": "stream",
     "text": [
      "Summary created at: 2024-12-03T16:46:16.536529\n"
     ]
    },
    {
     "data": {
      "text/markdown": [
       "# Macroeconomic Environment Summary\n",
       "\n",
       "## Economic Growth\n",
       "- **Real GDP**: Real GDP displayed consistent growth from January 2023 to July 2024, peaking at 5866.67 in July 2024. This indicates robust economic activity and recovery post-pandemic. However, the slight dip in October 2023 suggests potential fluctuations in economic momentum.\n",
       "\n",
       "## Inflation and Prices\n",
       "- **Consumer Price Index (CPI)**: From January 2023 to October 2024, the CPI steadily increased from 299.17 to 315.664. This reflects ongoing inflationary pressures, albeit at a moderated pace compared to the sharp increases of previous years, largely due to base effects and potential supply chain improvements.\n",
       "- **Inflation Rate**: The annual inflation rate decreased significantly from 8% in 2022 to approximately 4.1% by January 2023. Continued monitoring is essential, as persistent inflation could impact consumer spending and saving behaviors.\n",
       "\n",
       "## Interest Rates and Yields\n",
       "- **Treasury Yields**: Treasury yields have seen fluctuations, stabilizing around 4.36% by November 2024 after peaking at 4.8% in October 2023. This suggests cautious investor sentiment regarding future economic conditions and monetary policy shifts.\n",
       "- **Federal Funds Rate**: The Federal Funds Rate remained relatively high at around 5.33% for most of 2024, indicating the central bank's focus on managing inflation. Recent reductions to 4.64% by November 2024 might reflect easing inflation concerns or efforts to stimulate economic growth.\n",
       "\n",
       "## Labor Market\n",
       "- **Unemployment Rate**: The unemployment rate slightly increased from around 3.4% in early 2023 to 4.1% by October 2024. Although still relatively low, this trend might indicate cooling in labor market tightness, which could affect wage growth dynamics and consumer spending power.\n",
       "\n",
       "## Commodities and Forex\n",
       "- **Oil Prices (WTI and Brent)**: Oil prices have shown significant volatility, with WTI and Brent experiencing peaks and falls. This is reflective of changing global supply-demand dynamics, geopolitical tensions, and production adjustments.\n",
       "- **Copper and Aluminum**: Both commodities experienced price increases in 2024, reflecting strong demand possibly driven by industrial activity and technological advancements.\n",
       "- **Forex (USD/AUD and AUD/JPY)**: The USD/AUD exchange rate showed volatility, which could affect trade balances and export competitiveness. Similarly, fluctuations in AUD/JPY hint at shifts in investor risk appetite and interest rate differentials.\n",
       "\n",
       "## Implications\n",
       "1. **Growth Sustainability**: The continuing growth in Real GDP, despite recent volatility, suggests that the economic recovery is ongoing. However, sustained inflation and interest rates could pose risks to future growth.\n",
       "2. **Monetary Policy**: With inflation easing, central banks may consider rate adjustments to support growth without stoking inflation further, which requires careful balance.\n",
       "3. **Consumer and Investor Confidence**: Fluctuations in commodity prices and forex rates indicate underlying market uncertainties, potentially affecting consumer and investor confidence levels.\n",
       "4. **Labor Market Dynamics**: The uptick in unemployment suggests potential structural shifts or sector-specific impacts that could affect overall economic sentiment and policy decisions.\n",
       "\n",
       "Continued vigilance is required to navigate these dynamics, ensuring balanced growth through adaptive monetary and fiscal policies."
      ],
      "text/plain": [
       "<IPython.core.display.Markdown object>"
      ]
     },
     "metadata": {},
     "output_type": "display_data"
    }
   ],
   "source": [
    "from IPython.display import Markdown, display\n",
    "\n",
    "# Fetch the latest summary\n",
    "latest_summary = fetch_latest_summary()\n",
    "\n",
    "if latest_summary:\n",
    "    print(f\"Summary created at: {latest_summary['created_at']}\")\n",
    "    display(Markdown(latest_summary[\"summary\"]))\n",
    "else:\n",
    "    print(\"No summaries found in the database.\")"
   ]
  }
 ],
 "metadata": {
  "kernelspec": {
   "display_name": ".venv",
   "language": "python",
   "name": "python3"
  },
  "language_info": {
   "codemirror_mode": {
    "name": "ipython",
    "version": 3
   },
   "file_extension": ".py",
   "mimetype": "text/x-python",
   "name": "python",
   "nbconvert_exporter": "python",
   "pygments_lexer": "ipython3",
   "version": "3.12.4"
  }
 },
 "nbformat": 4,
 "nbformat_minor": 2
}
